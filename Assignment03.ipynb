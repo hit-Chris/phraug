{
  "cells": [
    {
      "cell_type": "markdown",
      "metadata": {
        "id": "view-in-github",
        "colab_type": "text"
      },
      "source": [
        "<a href=\"https://colab.research.google.com/github/hit-Chris/phraug/blob/master/Assignment03.ipynb\" target=\"_parent\"><img src=\"https://colab.research.google.com/assets/colab-badge.svg\" alt=\"Open In Colab\"/></a>"
      ]
    },
    {
      "cell_type": "markdown",
      "metadata": {
        "id": "HExFAIyVbMXh"
      },
      "source": [
        "# Assignment #3\n",
        "\n",
        "In this algorithm, you will explore and compare some algorithms that we discussed over the past few weeks.\n",
        "The first part will focus mostly on 2nd order algorithms.\n",
        "The second part will explore the sparsification of DNN.\n"
      ]
    },
    {
      "cell_type": "code",
      "execution_count": null,
      "metadata": {
        "pycharm": {
          "name": "#%%\n"
        },
        "id": "Lwm4qDhlbMXj"
      },
      "outputs": [],
      "source": [
        "import torch\n",
        "import math\n",
        "import torchvision\n",
        "import torchvision.transforms as transforms\n",
        "import torch.optim.lr_scheduler as lr_sched\n",
        "import torch.nn as nn\n",
        "import torch.nn.functional as F\n",
        "import numpy as np\n",
        "from torch.autograd import Variable\n",
        "import matplotlib.pyplot as plt\n",
        "%matplotlib inline\n",
        "import matplotlib\n",
        "torch.set_default_dtype(torch.float64)"
      ]
    },
    {
      "cell_type": "markdown",
      "metadata": {
        "id": "WnJKXajFbMXk"
      },
      "source": [
        "## data generation"
      ]
    },
    {
      "cell_type": "code",
      "execution_count": null,
      "metadata": {
        "id": "1jyidmcIbMXk",
        "outputId": "7e5bad3f-2904-427d-cd9c-611cd37de084",
        "colab": {
          "base_uri": "https://localhost:8080/",
          "height": 282
        }
      },
      "outputs": [
        {
          "output_type": "execute_result",
          "data": {
            "text/plain": [
              "[<matplotlib.lines.Line2D at 0x7f2b76fce810>]"
            ]
          },
          "metadata": {},
          "execution_count": 4
        },
        {
          "output_type": "display_data",
          "data": {
            "text/plain": [
              "<Figure size 432x288 with 1 Axes>"
            ],
            "image/png": "[encoded data removed]"
          },
          "metadata": {
            "needs_background": "light"
          }
        }
      ],
      "source": [
        "def getData(num_pts = 50, freq = 8.0, offset = 0.8):\n",
        "    \"\"\"Get and return the data.\"\"\"\n",
        "\n",
        "    # Create array with num_pts points between 0 and 1 (i.e., 0,1/num_pts, 2/num_pts,...)\n",
        "    xx = np.array(range(num_pts))*1.0/(num_pts+.0)\n",
        "    # Create positive (xp) and negative (xn) classes\n",
        "    xp = np.sin(freq*xx)+offset\n",
        "    xn = np.sin(freq*xx)-offset\n",
        "\n",
        "    # Concatenate the two arrays into list and reshape\n",
        "    X = [ [xx.tolist()+xx.tolist()],[xp.tolist()+xn.tolist()]]\n",
        "    X = np.reshape(np.array(X),[2,-1]) \n",
        "\n",
        "    # Create labels Y\n",
        "    Y = [1 for _ in  range(num_pts)]\n",
        "    Y = Y + [0 for _ in  range(num_pts)]\n",
        "\n",
        "    ns = len(Y)\n",
        "    Y = np.array(Y)\n",
        "    X = np.transpose(X)\n",
        "    y = np.zeros([ns,2])\n",
        "    for i in range(ns):\n",
        "        y[i,Y[i]] = 1\n",
        "\n",
        "    return X,y  \n",
        "\n",
        "X,y = getData()\n",
        "\n",
        "plt.plot(X[y[:,0]==0,0],X[y[:,0]==0,1],'r.')\n",
        "plt.plot(X[y[:,0]==1,0],X[y[:,0]==1,1],'b.')\n"
      ]
    },
    {
      "cell_type": "code",
      "source": [
        "\n",
        "len(y)"
      ],
      "metadata": {
        "colab": {
          "base_uri": "https://localhost:8080/"
        },
        "id": "sypV05NHVHSY",
        "outputId": "97b309ca-7301-4684-a864-9293c772541e"
      },
      "execution_count": null,
      "outputs": [
        {
          "output_type": "execute_result",
          "data": {
            "text/plain": [
              "100"
            ]
          },
          "metadata": {},
          "execution_count": 10
        }
      ]
    },
    {
      "cell_type": "markdown",
      "metadata": {
        "id": "danx0OSAbMXl"
      },
      "source": [
        "## model\n",
        "note, that this is very simple and not the correct way to define DNN to fit the data, but we just want to play with this and have \"very\" non-convex problem"
      ]
    },
    {
      "cell_type": "code",
      "execution_count": null,
      "metadata": {
        "id": "88xEb7-WbMXm",
        "outputId": "b577f0f9-7ea0-45fc-ec0b-efa4c6cdce54",
        "colab": {
          "base_uri": "https://localhost:8080/"
        }
      },
      "outputs": [
        {
          "output_type": "stream",
          "name": "stdout",
          "text": [
            "Total parameters 176\n"
          ]
        }
      ],
      "source": [
        "class Net(nn.Module):\n",
        "  def __init__(self ):\n",
        "      super(Net, self).__init__()\n",
        "      self.fc0 = nn.Linear(2, 2)        \n",
        "      self.fc1 = nn.Linear(2, 4)\n",
        "      self.fc2 = nn.Linear(4,8)\n",
        "      self.fc3 = nn.Linear(8,8)\n",
        "      self.fc4 = nn.Linear(8,4)\n",
        "      self.fc5 = nn.Linear(4,2)\n",
        "\n",
        "  def forward(self, x):\n",
        "      x = F.sigmoid(self.fc0(x))\n",
        "      x = F.sigmoid(self.fc1(x))\n",
        "      x = F.sigmoid(self.fc2(x))\n",
        "      x = F.sigmoid(self.fc3(x))\n",
        "      x = F.sigmoid(self.fc4(x))\n",
        "      x = self.fc5(x)\n",
        "      return  F.log_softmax(x,1)\n",
        "\n",
        "torch.random.manual_seed(0)\n",
        "model = Net()\n",
        "w0 = [w+0.0 for w in model.parameters()]\n",
        "d = np.sum([w.numel() for w in model.parameters()])\n",
        "print (\"Total parameters\",d)"
      ]
    },
    {
      "cell_type": "markdown",
      "metadata": {
        "id": "0nSd8iw1bMXm"
      },
      "source": [
        "# GD + Line-search [20pt]\n",
        "Implement GD algorithm with a line search and try to train the model"
      ]
    },
    {
      "cell_type": "code",
      "execution_count": null,
      "metadata": {
        "id": "qCG7mgUvbMXm",
        "colab": {
          "base_uri": "https://localhost:8080/",
          "height": 300
        },
        "outputId": "12471db0-da17-4d60-888d-1b2842895878"
      },
      "outputs": [
        {
          "output_type": "stream",
          "name": "stderr",
          "text": [
            "/usr/local/lib/python3.7/dist-packages/torch/nn/functional.py:1806: UserWarning: nn.functional.sigmoid is deprecated. Use torch.sigmoid instead.\n",
            "  warnings.warn(\"nn.functional.sigmoid is deprecated. Use torch.sigmoid instead.\")\n"
          ]
        },
        {
          "output_type": "display_data",
          "data": {
            "text/plain": [
              "<Figure size 432x288 with 1 Axes>"
            ],
            "image/png": "[encoded data removed]"
          },
          "metadata": {
            "needs_background": "light"
          }
        }
      ],
      "source": [
        "torch.random.manual_seed(0)\n",
        "model = Net()\n",
        "w0 = [w+0.0 for w in model.parameters()]\n",
        "\n",
        "loss_lis = []\n",
        "ite_num = 500\n",
        "optimizer = torch.optim.SGD(model.parameters(), lr=0.025)\n",
        "scheduler = lr_sched.LinearLR(optimizer, start_factor=0.005)\n",
        "for it in range(ite_num):\n",
        "  optimizer.zero_grad()\n",
        "  out = model(torch.tensor(X))\n",
        "  loss = nn.CrossEntropyLoss()(out, torch.tensor(y))\n",
        "  loss_lis.append(loss.item())\n",
        "  loss.backward()\n",
        "  optimizer.step()\n",
        "  scheduler.step()\n",
        "plt.plot(range(1,ite_num+1),loss_lis,'o-',ms=3,lw=1,color='blue')\n",
        "plt.show()"
      ]
    },
    {
      "cell_type": "markdown",
      "metadata": {
        "id": "VBETaXO8bMXm"
      },
      "source": [
        "# TR+CG [40pt]\n",
        "Implement TR+CG algorithm and use it to train the DNN model "
      ]
    },
    {
      "cell_type": "code",
      "source": [
        "def normal_entropy(std):\n",
        "    var = std.pow(2)\n",
        "    entropy = 0.5 + 0.5 * torch.log(2 * var * math.pi)\n",
        "    return entropy.sum(1, keepdim=True)\n",
        "\n",
        "\n",
        "def normal_log_density(x, mean, log_std, std):\n",
        "    var = std.pow(2)\n",
        "    log_density = -(x - mean).pow(2) / (\n",
        "        2 * var) - 0.5 * math.log(2 * math.pi) - log_std\n",
        "    return log_density.sum(1, keepdim=True)\n",
        "\n",
        "\n",
        "def get_flat_params_from(model):\n",
        "    params = []\n",
        "    for param in model.parameters():\n",
        "        params.append(param.data.view(-1))\n",
        "    flat_params = torch.cat(params)\n",
        "    return flat_params\n",
        "\n",
        "\n",
        "def set_flat_params_to(model, flat_params):\n",
        "    prev_ind = 0\n",
        "    for param in model.parameters():\n",
        "        flat_size = int(np.prod(list(param.size())))\n",
        "        param.data.copy_(\n",
        "            flat_params[prev_ind:prev_ind + flat_size].view(param.size()))\n",
        "        prev_ind += flat_size\n",
        "\n",
        "\n",
        "def get_flat_grad_from(net, grad_grad=False):\n",
        "    grads = []\n",
        "    for param in net.parameters():\n",
        "        if grad_grad:\n",
        "            grads.append(param.grad.grad.view(-1))\n",
        "        else:\n",
        "            grads.append(param.grad.view(-1))\n",
        "    flat_grad = torch.cat(grads)\n",
        "    return flat_grad\n",
        "\n",
        "def linesearch(model,\n",
        "               f,\n",
        "               x,\n",
        "               fullstep,\n",
        "               expected_improve_rate,\n",
        "               max_backtracks=10,\n",
        "               accept_ratio=.1):\n",
        "    fval = f(True).data\n",
        "    print(\"fval before\", fval.item())\n",
        "    for (_n_backtracks, stepfrac) in enumerate(.5**np.arange(max_backtracks)):\n",
        "        xnew = x + stepfrac * fullstep\n",
        "        set_flat_params_to(model, xnew)\n",
        "        newfval = f(True).data\n",
        "        actual_improve = fval - newfval\n",
        "        expected_improve = expected_improve_rate * stepfrac\n",
        "        ratio = actual_improve / expected_improve\n",
        "        print(\"a/e/r\", actual_improve.item(), expected_improve.item(), ratio.item())\n",
        "        if ratio.item() > accept_ratio and actual_improve.item() > 0:\n",
        "            print(\"fval after\", newfval.item())\n",
        "            return True, xnew\n",
        "    return False, x\n",
        "\n",
        "\n",
        "def trpo_step(model, loss, get_kl, max_kl, damping):\n",
        "    grads = torch.autograd.grad(loss, model.parameters())\n",
        "    loss_grad = torch.cat([grad.view(-1) for grad in grads]).data\n",
        "\n",
        "    def Fvp(v):\n",
        "        kl = get_kl()\n",
        "        kl = kl.mean()\n",
        "\n",
        "        grads = torch.autograd.grad(kl, model.parameters(), create_graph=True)\n",
        "        flat_grad_kl = torch.cat([grad.view(-1) for grad in grads])\n",
        "\n",
        "        kl_v = (flat_grad_kl * Variable(v)).sum()\n",
        "        grads = torch.autograd.grad(kl_v, model.parameters())\n",
        "        flat_grad_grad_kl = torch.cat([grad.contiguous().view(-1) for grad in grads]).data\n",
        "\n",
        "        return flat_grad_grad_kl + v * damping\n",
        "\n",
        "    stepdir = conjugate_gradients(Fvp, -loss_grad, 10)\n",
        "\n",
        "    shs = 0.5 * (stepdir * Fvp(stepdir)).sum(0, keepdim=True)\n",
        "\n",
        "    lm = torch.sqrt(shs / max_kl)\n",
        "    fullstep = stepdir / lm[0]\n",
        "\n",
        "    neggdotstepdir = (-loss_grad * stepdir).sum(0, keepdim=True)\n",
        "    print((\"lagrange multiplier:\", lm[0], \"grad_norm:\", loss_grad.norm()))\n",
        "\n",
        "    prev_params = get_flat_params_from(model)\n",
        "    success, new_params = linesearch(model, get_loss, prev_params, fullstep,\n",
        "                                     neggdotstepdir / lm[0])\n",
        "    set_flat_params_to(model, new_params)\n",
        "\n",
        "    return loss\n",
        "\n",
        "def conjugate_gradients(Avp, b, nsteps, residual_tol=1e-10):\n",
        "    x = torch.zeros(b.size())\n",
        "    r = b.clone()\n",
        "    p = b.clone()\n",
        "    rdotr = torch.dot(r, r)\n",
        "    for i in range(nsteps):\n",
        "        _Avp = Avp(p)\n",
        "        alpha = rdotr / torch.dot(p, _Avp)\n",
        "        x += alpha * p\n",
        "        r -= alpha * _Avp\n",
        "        new_rdotr = torch.dot(r, r)\n",
        "        betta = new_rdotr / rdotr\n",
        "        p = r + betta * p\n",
        "        rdotr = new_rdotr\n",
        "        if rdotr < residual_tol:\n",
        "            break\n",
        "    return x\n",
        "\n",
        "def conju_gd(x_0, Q):\n",
        "  d_0 = grad(x_0)\n",
        "  x_i = x_0\n",
        "  d = d_0\n",
        "  while grad(x_i) != 0:\n",
        "    gamma = d.T*Q*grad(x_i) / d.T*Q*d\n",
        "    d = -grad(x_i) + gamma * d\n",
        "    lmd_i = - d.T * grad(x_i) / d.T*Q*d\n",
        "    x_i = x_i + lmd_i * d\n",
        "  return x_i"
      ],
      "metadata": {
        "id": "52jFeUSCCuqc"
      },
      "execution_count": null,
      "outputs": []
    },
    {
      "cell_type": "code",
      "source": [
        "data = torch.tensor(X)\n",
        "target = torch.tensor(y)\n",
        "output = model(data)\n",
        "loss = F.mse_loss(output, target)\n",
        "grad_f = torch.autograd.grad(loss, model.parameters(), create_graph = True)"
      ],
      "metadata": {
        "colab": {
          "base_uri": "https://localhost:8080/"
        },
        "id": "6yJmPCY40lko",
        "outputId": "96f043ce-c84f-48a8-cbd9-3fa327bef81d"
      },
      "execution_count": null,
      "outputs": [
        {
          "output_type": "stream",
          "name": "stderr",
          "text": [
            "/usr/local/lib/python3.7/dist-packages/torch/nn/functional.py:1806: UserWarning: nn.functional.sigmoid is deprecated. Use torch.sigmoid instead.\n",
            "  warnings.warn(\"nn.functional.sigmoid is deprecated. Use torch.sigmoid instead.\")\n"
          ]
        }
      ]
    },
    {
      "cell_type": "code",
      "source": [
        "Hessian = torch.zeros([d, d], device=\"cuda\")\n",
        "j = 0\n",
        "for g in grad_f:\n",
        "  g = g.view(-1)\n",
        "  for i in range(g.numel()):\n",
        "    Hv = torch.autograd.grad(g[i] , model.parameters(), create_graph=True)\n",
        "    v = torch.cat([vi.reshape(-1) for vi in Hv]).detach()\n",
        "    Hessian[:,j] = v \n",
        "    j+=1\n"
      ],
      "metadata": {
        "id": "NgvZETmN3S9H"
      },
      "execution_count": null,
      "outputs": []
    },
    {
      "cell_type": "code",
      "source": [
        "HessianNP = Hessian.cpu().data.numpy() \n",
        "print (np.max(np.abs(HessianNP-HessianNP.T)))\n",
        "S,U = np.linalg.eig(HessianNP)\n",
        "s = sorted(S+0.0)"
      ],
      "metadata": {
        "colab": {
          "base_uri": "https://localhost:8080/"
        },
        "id": "tkR21AGk6vcm",
        "outputId": "59da7b65-50d1-4db8-ef8c-87c48ee47167"
      },
      "execution_count": null,
      "outputs": [
        {
          "output_type": "stream",
          "name": "stdout",
          "text": [
            "1.1102230246251565e-16\n"
          ]
        }
      ]
    },
    {
      "cell_type": "code",
      "source": [
        "plt.semilogy(s)"
      ],
      "metadata": {
        "colab": {
          "base_uri": "https://localhost:8080/",
          "height": 316
        },
        "id": "_pvgp1-o7FJT",
        "outputId": "fa823ba3-ce98-4494-bd88-c6581144d093"
      },
      "execution_count": null,
      "outputs": [
        {
          "output_type": "stream",
          "name": "stderr",
          "text": [
            "/usr/local/lib/python3.7/dist-packages/matplotlib/cbook/__init__.py:1317: ComplexWarning: Casting complex values to real discards the imaginary part\n",
            "  return np.asarray(x, float)\n"
          ]
        },
        {
          "output_type": "execute_result",
          "data": {
            "text/plain": [
              "[<matplotlib.lines.Line2D at 0x7ff4dba722d0>]"
            ]
          },
          "metadata": {},
          "execution_count": 13
        },
        {
          "output_type": "display_data",
          "data": {
            "text/plain": [
              "<Figure size 432x288 with 1 Axes>"
            ],
            "image/png": "[encoded data removed]"
          },
          "metadata": {
            "needs_background": "light"
          }
        }
      ]
    },
    {
      "cell_type": "code",
      "source": [
        "plt.semilogy(s,'bo')\n",
        "plt.semilogy(-np.array(s),'ro')\n",
        "plt.legend([\"Positive eigenvalues\",\"Negative eigenvalues\"])"
      ],
      "metadata": {
        "colab": {
          "base_uri": "https://localhost:8080/",
          "height": 350
        },
        "id": "Zrsvw2JM7gvg",
        "outputId": "4c235657-a664-4f7f-f22b-db5ff72c6a2c"
      },
      "execution_count": null,
      "outputs": [
        {
          "output_type": "stream",
          "name": "stderr",
          "text": [
            "/usr/local/lib/python3.7/dist-packages/matplotlib/cbook/__init__.py:1317: ComplexWarning: Casting complex values to real discards the imaginary part\n",
            "  return np.asarray(x, float)\n",
            "/usr/local/lib/python3.7/dist-packages/matplotlib/cbook/__init__.py:1317: ComplexWarning: Casting complex values to real discards the imaginary part\n",
            "  return np.asarray(x, float)\n"
          ]
        },
        {
          "output_type": "execute_result",
          "data": {
            "text/plain": [
              "<matplotlib.legend.Legend at 0x7ff4db81be90>"
            ]
          },
          "metadata": {},
          "execution_count": 14
        },
        {
          "output_type": "display_data",
          "data": {
            "text/plain": [
              "<Figure size 432x288 with 1 Axes>"
            ],
            "image/png": "[encoded data removed]"
          },
          "metadata": {
            "needs_background": "light"
          }
        }
      ]
    },
    {
      "cell_type": "code",
      "source": [
        "def setWeights(mymodel, wToSet):\n",
        "  with torch.no_grad():\n",
        "    for w, w0i in zip(mymodel.parameters(), wToSet):\n",
        "      w.set_(w0i.data+0.0)"
      ],
      "metadata": {
        "id": "lNU78eAeDIBW"
      },
      "execution_count": null,
      "outputs": []
    },
    {
      "cell_type": "code",
      "source": [
        "torch.random.manual_seed(0)\n",
        "setWeights(model, w0)      \n",
        "eta = 5\n",
        "etaHist = []\n",
        "fval = []\n",
        "dotProducts=[]\n",
        "prevGrad = None\n",
        "for it in range(2000):\n",
        "  Ws = [w+0.0 for w in model.parameters()]\n",
        "  output = model(data)\n",
        "  loss = F.mse_loss(output, target)  # The negative log likelihood loss.   https://pytorch.org/docs/stable/nn.functional.html#nll-loss\n",
        "  grad_f = torch.autograd.grad(loss, model.parameters())  # computation of gradient \n",
        "  if prevGrad is not None:\n",
        "    dp = 0\n",
        "    for pgi, gi in zip( prevGrad,  grad_f):\n",
        "      dp+=torch.sum((gi-pgi )*(-pgi) ).item()\n",
        "    dotProducts.append(dp)    \n",
        "  \n",
        "  sufficientDecrease = False\n",
        "  j = 0\n",
        "  while not sufficientDecrease:\n",
        "    j+=1\n",
        "    for w, g in zip(model.parameters(), grad_f):\n",
        "      w.data.sub_(eta*g)\n",
        "    output = model(data)\n",
        "    lossNew = F.mse_loss(output, target)  # The negative log likelihood loss.   https://pytorch.org/docs/stable/nn.functional.html#nll-loss\n",
        "    if j > 30 or lossNew < loss - eta*0.1 *eta*torch.sum(torch.stack([torch.norm(g)**2 for g in grad_f]) )  :\n",
        "      etaHist .append(eta)\n",
        "      fval.append(lossNew.item())\n",
        "      eta = eta*2.0\n",
        "      sufficientDecrease = True\n",
        "    else:\n",
        "      eta = eta*0.5\n",
        "      setWeights(model, Ws)      \n",
        "  prevGrad = grad_f"
      ],
      "metadata": {
        "id": "lYVBfa8jDRQs"
      },
      "execution_count": null,
      "outputs": []
    },
    {
      "cell_type": "code",
      "source": [
        "dp = 0\n",
        "for pgi, gi in zip( prevGrad,  grad_f):\n",
        "  dp+=torch.sum((gi-pgi )*(-pgi) ).item()\n",
        "dp"
      ],
      "metadata": {
        "colab": {
          "base_uri": "https://localhost:8080/"
        },
        "id": "Ya9VKSIRCNrX",
        "outputId": "069de4d3-abac-4fda-cd59-215fef94447a"
      },
      "execution_count": null,
      "outputs": [
        {
          "output_type": "execute_result",
          "data": {
            "text/plain": [
              "2.0547451113866858e-08"
            ]
          },
          "metadata": {},
          "execution_count": 17
        }
      ]
    },
    {
      "cell_type": "code",
      "source": [
        "output = model(data)\n",
        "loss = F.mse_loss(output, target)  # The negative log likelihood loss.   https://pytorch.org/docs/stable/nn.functional.html#nll-loss\n",
        "grad_f = torch.autograd.grad(loss, model.parameters(), create_graph=True)  # computation of gradient \n",
        "\n",
        "Hessian = torch.zeros([d,d],device=\"cuda\")\n",
        "j = 0\n",
        "for g in grad_f:\n",
        "  g = g.view(-1)\n",
        "  for i in range(g.numel()):\n",
        "    Hv = torch.autograd.grad(g[i] , model.parameters(), create_graph=True)\n",
        "    v = torch.cat([vi.reshape(-1) for vi in Hv]).detach()\n",
        "    Hessian[:,j] = v \n",
        "    j+=1\n",
        "HessianNP = Hessian.cpu().data.numpy()  \n",
        "print (np.max(np.abs(HessianNP-HessianNP.T)))\n",
        "S,U = np.linalg.eig(HessianNP)\n",
        "snew = sorted(S+0.0)\n",
        "plt.semilogy(snew,'bo')\n",
        "plt.semilogy(-np.array(snew),'ro')"
      ],
      "metadata": {
        "colab": {
          "base_uri": "https://localhost:8080/",
          "height": 401
        },
        "id": "dUirLCfeKIUB",
        "outputId": "1bdff8f8-a462-40ca-8899-7847e22c1efb"
      },
      "execution_count": null,
      "outputs": [
        {
          "output_type": "stream",
          "name": "stdout",
          "text": [
            "2.220446049250313e-16\n"
          ]
        },
        {
          "output_type": "stream",
          "name": "stderr",
          "text": [
            "/usr/local/lib/python3.7/dist-packages/torch/nn/functional.py:1806: UserWarning: nn.functional.sigmoid is deprecated. Use torch.sigmoid instead.\n",
            "  warnings.warn(\"nn.functional.sigmoid is deprecated. Use torch.sigmoid instead.\")\n",
            "/usr/local/lib/python3.7/dist-packages/matplotlib/cbook/__init__.py:1317: ComplexWarning: Casting complex values to real discards the imaginary part\n",
            "  return np.asarray(x, float)\n",
            "/usr/local/lib/python3.7/dist-packages/matplotlib/cbook/__init__.py:1317: ComplexWarning: Casting complex values to real discards the imaginary part\n",
            "  return np.asarray(x, float)\n"
          ]
        },
        {
          "output_type": "execute_result",
          "data": {
            "text/plain": [
              "[<matplotlib.lines.Line2D at 0x7f909eed66d0>]"
            ]
          },
          "metadata": {},
          "execution_count": 16
        },
        {
          "output_type": "display_data",
          "data": {
            "text/plain": [
              "<Figure size 432x288 with 1 Axes>"
            ],
            "image/png": "[encoded data removed]"
          },
          "metadata": {
            "needs_background": "light"
          }
        }
      ]
    },
    {
      "cell_type": "code",
      "execution_count": null,
      "metadata": {
        "id": "xsIi4dZ7bMXn"
      },
      "outputs": [],
      "source": [
        "import os\n",
        "import time\n",
        "import datetime\n",
        "import torch\n",
        "torch.set_default_dtype(torch.float64)\n",
        "torch.set_num_threads(1) #cpu num\n",
        "from torch.jit import script, trace\n",
        "import torch.nn as nn\n",
        "from torch import optim\n",
        "import torch.nn.functional as F\n",
        "from torch.autograd import Variable\n",
        "import csv\n",
        "import random\n",
        "import os\n",
        "import itertools\n",
        "import math\n",
        "import numpy as np\n",
        "import math\n",
        "import torch.optim as optim\n",
        "# from tqdm import tqdm\n",
        "from tqdm import tqdm_notebook as tqdm\n",
        "from torch.nn.parameter import Parameter\n",
        "from collections import OrderedDict\n",
        "import sys\n",
        "\n",
        "\n",
        "# stolen from Zheng Shi zhs310@lehigh.edu and Majid Jahani maj316@lehigh.edu\n",
        "class TRCGOptimizer:\n",
        "    def __init__(self,model,device,radius,cgopttol=1e-7,c0tr=0.2,c1tr=0.25,c2tr=0.75,t1tr=0.25,t2tr=2.0,radius_max=5.0,\\\n",
        "                 radius_initial=0.1):\n",
        "        \n",
        "        self.model = model\n",
        "        self.device = device\n",
        "        self.cgopttol = cgopttol\n",
        "        self.c0tr = c0tr\n",
        "        self.c1tr = c1tr\n",
        "        self.c2tr = c2tr\n",
        "        self.t1tr = t1tr\n",
        "        self.t2tr = t2tr\n",
        "        self.radius_max = radius_max\n",
        "        self.radius_initial = radius_initial\n",
        "        self.radius = radius\n",
        "        self.cgmaxiter = 60\n",
        "        \n",
        "    def findroot(self,x,p):\n",
        "        \n",
        "        aa = 0.0\n",
        "        bb = 0.0\n",
        "        cc = 0.0\n",
        "    \n",
        "        for e in range(len(x)):\n",
        "            aa += (p[e]*p[e]).sum()\n",
        "            bb += (p[e]*x[e]).sum()\n",
        "            cc += (x[e]*x[e]).sum()\n",
        "        \n",
        "        bb = bb*2.0\n",
        "        cc = cc - self.radius**2\n",
        "    \n",
        "        alpha = (-2.0*cc)/(bb+(bb**2-(4.0*aa*cc)).sqrt())\n",
        "\n",
        "        return alpha.data.item()\n",
        "    \n",
        "    \n",
        "    def CGSolver(self,loss_grad,cnt_compute):\n",
        "    \n",
        "        cg_iter = 0 # iteration counter\n",
        "        x0 = [] # define x_0 as a list\n",
        "        for i in self.model.parameters():\n",
        "            x0.append(torch.zeros(i.shape).to(self.device))\n",
        "    \n",
        "        r0 = [] # set initial residual to gradient\n",
        "        p0 = [] # set initial conjugate direction to -r0\n",
        "        self.cgopttol = 0.0\n",
        "        \n",
        "        for i in loss_grad:\n",
        "            r0.append(i.data+0.0)     \n",
        "            p0.append(0.0-i.data)\n",
        "            self.cgopttol+=torch.norm(i.data)**2\n",
        "        \n",
        "        self.cgopttol = self.cgopttol.data.item()**0.5\n",
        "        self.cgopttol = (min(0.5,self.cgopttol**0.5))*self.cgopttol\n",
        "    \n",
        "        cg_term = 0\n",
        "        j = 0\n",
        "\n",
        "        while 1:\n",
        "            j+=1\n",
        "    \n",
        "            # if CG does not solve model within max allowable iterations\n",
        "            if j > self.cgmaxiter:\n",
        "                j=j-1\n",
        "                p1 = x0\n",
        "                print ('\\n\\nCG has issues !!!\\n\\n')\n",
        "                break\n",
        "            # hessian vector product\n",
        "            loss_grad_direct = 0.0\n",
        "            ind = 0\n",
        "            for i in loss_grad:\n",
        "                loss_grad_direct += (i*p0[ind]).sum()\n",
        "                ind+=1\n",
        "            Hp = torch.autograd.grad(loss_grad_direct,self.model.parameters(),retain_graph=True) # hessian-vector in tuple\n",
        "            cnt_compute+=1\n",
        "            \n",
        "            pHp = 0.0 # quadratic term\n",
        "            ind = 0\n",
        "            for i in Hp:\n",
        "                pHp += (p0[ind]*i).sum()\n",
        "                ind+=1\n",
        "    \n",
        "            # if nonpositive curvature detected, go for the boundary of trust region\n",
        "            if pHp.data.item() <= 0:\n",
        "                tau = self.findroot(x0,p0)\n",
        "                p1 = []\n",
        "                for e in range(len(x0)):\n",
        "                    p1.append(x0[e]+tau*p0[e])\n",
        "                cg_term = 1\n",
        "                break\n",
        "            \n",
        "            # if positive curvature\n",
        "            # vector product\n",
        "            rr0 = 0.0\n",
        "            for i in r0:\n",
        "                rr0 += (i*i).sum()\n",
        "            \n",
        "            # update alpha\n",
        "            alpha = (rr0/pHp).data.item()\n",
        "        \n",
        "            x1 = []\n",
        "            norm_x1 = 0.0\n",
        "            \n",
        "            \n",
        "            for e in range(len(x0)):\n",
        "                x1.append(x0[e]+alpha*p0[e])\n",
        "                norm_x1 += torch.norm(x0[e]+alpha*p0[e])**2\n",
        "            norm_x1 = norm_x1**0.5\n",
        "            \n",
        "            # if norm of the updated x1 > radius\n",
        "            if norm_x1.data.item() >= self.radius:\n",
        "                tau = self.findroot(x0,p0)\n",
        "                p1 = []\n",
        "                for e in range(len(x0)):\n",
        "                    p1.append(x0[e]+tau*p0[e])\n",
        "                cg_term = 2\n",
        "                break\n",
        "    \n",
        "            # update residual\n",
        "            r1 = []\n",
        "            norm_r1 = 0.0\n",
        "            for e in range(len(r0)):\n",
        "                r1.append(r0[e]+alpha*Hp[e])\n",
        "                norm_r1 += torch.norm(r0[e]+alpha*Hp[e])**2\n",
        "            norm_r1 = norm_r1**0.5\n",
        "    \n",
        "            if norm_r1.data.item() < self.cgopttol:\n",
        "                p1 = x1\n",
        "                cg_term = 3\n",
        "                break\n",
        "    \n",
        "            rr1 = 0.0\n",
        "            for i in r1:\n",
        "                rr1 += (i*i).sum()\n",
        "    \n",
        "            beta = (rr1/rr0).data.item()\n",
        "    \n",
        "            # update conjugate direction for next iterate\n",
        "            p1 = []\n",
        "            for e in range(len(r1)):\n",
        "                p1.append(-r1[e]+beta*p0[e])\n",
        "    \n",
        "            p0 = p1\n",
        "            x0 = x1\n",
        "            r0 = r1\n",
        "    \n",
        "\n",
        "        cg_iter = j\n",
        "        d = p1\n",
        "\n",
        "        return d,cg_iter,cg_term,cnt_compute\n",
        "    \n",
        "    def step(self,loss,MSE,x_time_series,y_time_series):\n",
        "        update = 2\n",
        "        loss_grad = torch.autograd.grad(loss, self.model.parameters(), create_graph=True) \n",
        "        li_sm = 0\n",
        "        for li in loss_grad:\n",
        "          li_sum = li_sm + (li.data * li.data).sum()\n",
        "        NormG = torch.sqrt(li_sum).data.item()\n",
        "        # NormG = torch.sqrt(np.sum([(li.data * li.data).sum() for li in loss_grad])).data.item()\n",
        "        ListG = [torch.sqrt((li.data*li.data).sum()) for li in loss_grad]\n",
        "        cnt_compute=1\n",
        "        \n",
        "        # Conjugate Gradient Method\n",
        "        d, cg_iter, cg_term, cnt_compute = self.CGSolver(loss_grad,cnt_compute)\n",
        "        # current iterate\n",
        "        w0 = []\n",
        "        for i in self.model.parameters():\n",
        "            w0.append(i.data.cpu().numpy())\n",
        "    \n",
        "        # update solution\n",
        "        ind = 0\n",
        "        for i in self.model.parameters():\n",
        "            i.data = torch.from_numpy(w0[ind]).to(self.device)+d[ind]\n",
        "            ind+=1\n",
        "    \n",
        "        # MSE loss plus penalty term\n",
        "        with torch.no_grad():\n",
        "            Pred_new = self.model(x_time_series)\n",
        "            loss_new = MSE(Pred_new,y_time_series)\n",
        "\n",
        "        numerator = loss.data.item() - loss_new.data.item()\n",
        "\n",
        "        # dHd\n",
        "        Hd = 0.0\n",
        "        loss_grad_direct = 0.0\n",
        "        ind = 0\n",
        "        for i in loss_grad:\n",
        "            loss_grad_direct += (i*d[ind]).sum()\n",
        "            ind+=1\n",
        "        Hd = torch.autograd.grad(loss_grad_direct,self.model.parameters()) # hessian-vector in tuple\n",
        "        dHd = 0.0 # quadratic term\n",
        "        ind = 0\n",
        "        for i in Hd:\n",
        "            dHd += (d[ind]*i.data).sum()\n",
        "            ind+=1\n",
        "\n",
        "        gd = 0.0\n",
        "        ind = 0\n",
        "        for i in loss_grad:\n",
        "            gd += (i.data*d[ind]).sum()\n",
        "            ind+=1\n",
        "\n",
        "        norm_d = 0.0\n",
        "        for i in d:\n",
        "            norm_d += torch.norm(i)**2\n",
        "        norm_d = norm_d**0.5\n",
        "        \n",
        "        denominator = -gd.data.item() - 0.5*(dHd.data.item())\n",
        "\n",
        "        # ratio\n",
        "        rho = numerator/denominator\n",
        "\n",
        "        if rho < self.c1tr: # shrink radius\n",
        "            self.radius = self.t1tr*self.radius\n",
        "            update = 0\n",
        "        if rho > self.c2tr and np.abs(norm_d.data.item() - self.radius) < 1e-10: # enlarge radius\n",
        "            self.radius = min(self.t2tr*self.radius,self.radius_max)\n",
        "            update = 1\n",
        "        # otherwise, radius remains the same\n",
        "        \n",
        "        if rho <= self.c0tr: # reject d\n",
        "            update = 3\n",
        "            ind = 0\n",
        "            for i in self.model.parameters():\n",
        "                i.data = torch.from_numpy(w0[ind]).to(self.device)\n",
        "                ind+=1\n",
        "    \n",
        "#         return d, rho, update, cg_iter, cg_term, loss_grad, norm_d, numerator, denominator, w0\n",
        "        return self.radius, cnt_compute, cg_iter\n",
        "        "
      ]
    },
    {
      "cell_type": "code",
      "source": [
        ""
      ],
      "metadata": {
        "id": "41Ltsk-qDBEn"
      },
      "execution_count": null,
      "outputs": []
    },
    {
      "cell_type": "code",
      "source": [
        "a = torch.tensor([1,2,3])\n",
        "b = torch.tensor([4,5,6])\n",
        "torch.sum(a)"
      ],
      "metadata": {
        "colab": {
          "base_uri": "https://localhost:8080/"
        },
        "id": "GiKYRk6lcQjJ",
        "outputId": "c42eb31d-ba6a-4193-d5b6-8e595eaac68f"
      },
      "execution_count": null,
      "outputs": [
        {
          "output_type": "execute_result",
          "data": {
            "text/plain": [
              "tensor(6)"
            ]
          },
          "metadata": {},
          "execution_count": 37
        }
      ]
    },
    {
      "cell_type": "code",
      "source": [
        "setWeights(model, w0)      \n",
        "radius_initial = 1.0\n",
        "data = torch.tensor(X)\n",
        "target = torch.tensor(y)\n",
        "trVal = []\n",
        "trCost = []\n",
        "\n",
        "optimizer = TRCGOptimizer(model,\"cuda\",radius_initial)\n",
        "for it in range(100):\n",
        "  output = model(data)\n",
        "  loss = F.mse_loss(output, target)  # The negative log likelihood loss.   https://pytorch.org/docs/stable/nn.functional.html#nll-loss\n",
        "  print(loss.device)\n",
        "  \n",
        "  print(data.device)\n",
        "  print(target.device)\n",
        "  rad, cnt_compute, cgiter = optimizer.step(loss, F.mse_loss, data, target)\n",
        "  \n",
        "  print (it, loss.item(), cgiter)\n",
        "  trVal.append(loss.item())\n",
        "  trCost.append(1+cgiter)"
      ],
      "metadata": {
        "colab": {
          "base_uri": "https://localhost:8080/",
          "height": 460
        },
        "id": "3HBUKXEMNHqP",
        "outputId": "46454aee-78f7-45bb-b965-ed406e9081f3"
      },
      "execution_count": null,
      "outputs": [
        {
          "output_type": "stream",
          "name": "stdout",
          "text": [
            "cpu\n",
            "cpu\n",
            "cpu\n"
          ]
        },
        {
          "output_type": "stream",
          "name": "stderr",
          "text": [
            "/usr/local/lib/python3.7/dist-packages/torch/nn/functional.py:1806: UserWarning: nn.functional.sigmoid is deprecated. Use torch.sigmoid instead.\n",
            "  warnings.warn(\"nn.functional.sigmoid is deprecated. Use torch.sigmoid instead.\")\n"
          ]
        },
        {
          "output_type": "error",
          "ename": "AttributeError",
          "evalue": "ignored",
          "traceback": [
            "\u001b[0;31m---------------------------------------------------------------------------\u001b[0m",
            "\u001b[0;31mAttributeError\u001b[0m                            Traceback (most recent call last)",
            "\u001b[0;32m<ipython-input-19-42c8a2e3b036>\u001b[0m in \u001b[0;36m<module>\u001b[0;34m()\u001b[0m\n\u001b[1;32m     14\u001b[0m   \u001b[0mprint\u001b[0m\u001b[0;34m(\u001b[0m\u001b[0mdata\u001b[0m\u001b[0;34m.\u001b[0m\u001b[0mdevice\u001b[0m\u001b[0;34m)\u001b[0m\u001b[0;34m\u001b[0m\u001b[0;34m\u001b[0m\u001b[0m\n\u001b[1;32m     15\u001b[0m   \u001b[0mprint\u001b[0m\u001b[0;34m(\u001b[0m\u001b[0mtarget\u001b[0m\u001b[0;34m.\u001b[0m\u001b[0mdevice\u001b[0m\u001b[0;34m)\u001b[0m\u001b[0;34m\u001b[0m\u001b[0;34m\u001b[0m\u001b[0m\n\u001b[0;32m---> 16\u001b[0;31m   \u001b[0mrad\u001b[0m\u001b[0;34m,\u001b[0m \u001b[0mcnt_compute\u001b[0m\u001b[0;34m,\u001b[0m \u001b[0mcgiter\u001b[0m \u001b[0;34m=\u001b[0m \u001b[0moptimizer\u001b[0m\u001b[0;34m.\u001b[0m\u001b[0mstep\u001b[0m\u001b[0;34m(\u001b[0m\u001b[0mloss\u001b[0m\u001b[0;34m,\u001b[0m \u001b[0mF\u001b[0m\u001b[0;34m.\u001b[0m\u001b[0mmse_loss\u001b[0m\u001b[0;34m,\u001b[0m \u001b[0mdata\u001b[0m\u001b[0;34m,\u001b[0m \u001b[0mtarget\u001b[0m\u001b[0;34m)\u001b[0m\u001b[0;34m\u001b[0m\u001b[0;34m\u001b[0m\u001b[0m\n\u001b[0m\u001b[1;32m     17\u001b[0m \u001b[0;34m\u001b[0m\u001b[0m\n\u001b[1;32m     18\u001b[0m   \u001b[0mprint\u001b[0m \u001b[0;34m(\u001b[0m\u001b[0mit\u001b[0m\u001b[0;34m,\u001b[0m \u001b[0mloss\u001b[0m\u001b[0;34m.\u001b[0m\u001b[0mitem\u001b[0m\u001b[0;34m(\u001b[0m\u001b[0;34m)\u001b[0m\u001b[0;34m,\u001b[0m \u001b[0mcgiter\u001b[0m\u001b[0;34m)\u001b[0m\u001b[0;34m\u001b[0m\u001b[0;34m\u001b[0m\u001b[0m\n",
            "\u001b[0;32m<ipython-input-18-629740977b77>\u001b[0m in \u001b[0;36mstep\u001b[0;34m(self, loss, MSE, x_time_series, y_time_series)\u001b[0m\n\u001b[1;32m    189\u001b[0m \u001b[0;34m\u001b[0m\u001b[0m\n\u001b[1;32m    190\u001b[0m         \u001b[0;31m# Conjugate Gradient Method\u001b[0m\u001b[0;34m\u001b[0m\u001b[0;34m\u001b[0m\u001b[0;34m\u001b[0m\u001b[0m\n\u001b[0;32m--> 191\u001b[0;31m         \u001b[0md\u001b[0m\u001b[0;34m,\u001b[0m \u001b[0mcg_iter\u001b[0m\u001b[0;34m,\u001b[0m \u001b[0mcg_term\u001b[0m\u001b[0;34m,\u001b[0m \u001b[0mcnt_compute\u001b[0m \u001b[0;34m=\u001b[0m \u001b[0mself\u001b[0m\u001b[0;34m.\u001b[0m\u001b[0mCGSolver\u001b[0m\u001b[0;34m(\u001b[0m\u001b[0mloss_grad\u001b[0m\u001b[0;34m,\u001b[0m\u001b[0mcnt_compute\u001b[0m\u001b[0;34m)\u001b[0m\u001b[0;34m\u001b[0m\u001b[0;34m\u001b[0m\u001b[0m\n\u001b[0m\u001b[1;32m    192\u001b[0m         \u001b[0;31m# current iterate\u001b[0m\u001b[0;34m\u001b[0m\u001b[0;34m\u001b[0m\u001b[0;34m\u001b[0m\u001b[0m\n\u001b[1;32m    193\u001b[0m         \u001b[0mw0\u001b[0m \u001b[0;34m=\u001b[0m \u001b[0;34m[\u001b[0m\u001b[0;34m]\u001b[0m\u001b[0;34m\u001b[0m\u001b[0;34m\u001b[0m\u001b[0m\n",
            "\u001b[0;32m<ipython-input-18-629740977b77>\u001b[0m in \u001b[0;36mCGSolver\u001b[0;34m(self, loss_grad, cnt_compute)\u001b[0m\n\u001b[1;32m    128\u001b[0m             \u001b[0mnorm_x1\u001b[0m \u001b[0;34m=\u001b[0m \u001b[0;36m0.0\u001b[0m\u001b[0;34m\u001b[0m\u001b[0;34m\u001b[0m\u001b[0m\n\u001b[1;32m    129\u001b[0m \u001b[0;34m\u001b[0m\u001b[0m\n\u001b[0;32m--> 130\u001b[0;31m             \u001b[0mprint\u001b[0m\u001b[0;34m(\u001b[0m\u001b[0mp0\u001b[0m\u001b[0;34m.\u001b[0m\u001b[0mdevice\u001b[0m\u001b[0;34m)\u001b[0m\u001b[0;34m\u001b[0m\u001b[0;34m\u001b[0m\u001b[0m\n\u001b[0m\u001b[1;32m    131\u001b[0m             \u001b[0;32mfor\u001b[0m \u001b[0me\u001b[0m \u001b[0;32min\u001b[0m \u001b[0mrange\u001b[0m\u001b[0;34m(\u001b[0m\u001b[0mlen\u001b[0m\u001b[0;34m(\u001b[0m\u001b[0mx0\u001b[0m\u001b[0;34m)\u001b[0m\u001b[0;34m)\u001b[0m\u001b[0;34m:\u001b[0m\u001b[0;34m\u001b[0m\u001b[0;34m\u001b[0m\u001b[0m\n\u001b[1;32m    132\u001b[0m                 \u001b[0mx1\u001b[0m\u001b[0;34m.\u001b[0m\u001b[0mappend\u001b[0m\u001b[0;34m(\u001b[0m\u001b[0mx0\u001b[0m\u001b[0;34m[\u001b[0m\u001b[0me\u001b[0m\u001b[0;34m]\u001b[0m\u001b[0;34m+\u001b[0m\u001b[0malpha\u001b[0m\u001b[0;34m*\u001b[0m\u001b[0mp0\u001b[0m\u001b[0;34m[\u001b[0m\u001b[0me\u001b[0m\u001b[0;34m]\u001b[0m\u001b[0;34m)\u001b[0m\u001b[0;34m\u001b[0m\u001b[0;34m\u001b[0m\u001b[0m\n",
            "\u001b[0;31mAttributeError\u001b[0m: 'list' object has no attribute 'device'"
          ]
        }
      ]
    },
    {
      "cell_type": "markdown",
      "metadata": {
        "id": "olTn9EoQbMXn"
      },
      "source": [
        "# BFGS+Exact TR [40pt]\n",
        "Implement BFGS algorithm to define the Hessian and then use CG algorithm to solve the gradratic subproblem.\n",
        "Use this algorithm to train the DNN model "
      ]
    },
    {
      "cell_type": "code",
      "source": [
        "model = Net()\n",
        "tu = []\n",
        "for w in model.parameters():\n",
        "  tu.append(w.data)\n",
        "print(tu)"
      ],
      "metadata": {
        "colab": {
          "base_uri": "https://localhost:8080/"
        },
        "id": "7cph_-u4X8qd",
        "outputId": "8704a4fb-76ec-436f-b81c-5a0071fc8031"
      },
      "execution_count": null,
      "outputs": [
        {
          "output_type": "stream",
          "name": "stdout",
          "text": [
            "[tensor([[-0.6841,  0.3433],\n",
            "        [-0.4965,  0.3670]]), tensor([-0.1852,  0.1391]), tensor([[ 0.3499, -0.5506],\n",
            "        [ 0.4317, -0.0618],\n",
            "        [ 0.4616, -0.4687],\n",
            "        [-0.3393,  0.6344]]), tensor([-0.4884, -0.3228, -0.4484,  0.1425]), tensor([[-0.3756, -0.1153,  0.0975, -0.4029],\n",
            "        [-0.4406,  0.1168, -0.3970, -0.3169],\n",
            "        [-0.4939, -0.4978, -0.3380, -0.1399],\n",
            "        [ 0.4271, -0.0154, -0.4654,  0.0314],\n",
            "        [-0.1121, -0.2955, -0.0050, -0.3828],\n",
            "        [-0.4182, -0.2539, -0.3109, -0.0162],\n",
            "        [-0.2903,  0.0801,  0.4131, -0.0874],\n",
            "        [ 0.4746,  0.4652, -0.1706, -0.3497]]), tensor([ 0.1505,  0.4087, -0.3685, -0.2469, -0.4935, -0.0940,  0.1877, -0.3853]), tensor([[-0.0800,  0.2309,  0.0045,  0.0978, -0.3473, -0.1455, -0.0441,  0.0709],\n",
            "        [ 0.1745, -0.2956, -0.0173,  0.0200,  0.1934, -0.0844,  0.0064,  0.1005],\n",
            "        [-0.1975,  0.0676, -0.2371, -0.0593, -0.2226,  0.0632,  0.1928,  0.1322],\n",
            "        [-0.1104,  0.3325, -0.2552, -0.2167, -0.1184,  0.1322,  0.1316,  0.0332],\n",
            "        [ 0.2819, -0.0207, -0.0696,  0.3022,  0.0763,  0.3446, -0.0057, -0.0509],\n",
            "        [ 0.3164,  0.0013,  0.1277, -0.2260,  0.0933, -0.2207,  0.2597, -0.1017],\n",
            "        [ 0.0766,  0.3496,  0.3074, -0.0214,  0.3016, -0.2440, -0.2446, -0.3144],\n",
            "        [-0.3003, -0.3244,  0.0429,  0.2601, -0.1640,  0.2016, -0.1988,  0.0781]]), tensor([-0.0056,  0.0437, -0.3099, -0.1697, -0.2639,  0.2078,  0.0701, -0.2632]), tensor([[ 0.0642, -0.2801,  0.2766, -0.1209,  0.2869,  0.3455, -0.0627, -0.3166],\n",
            "        [ 0.0231,  0.0960,  0.3454,  0.2007,  0.3156,  0.0782,  0.2896, -0.0629],\n",
            "        [-0.0849,  0.0664, -0.0497,  0.2974,  0.0315, -0.0321, -0.3489, -0.2360],\n",
            "        [-0.1352,  0.2018,  0.3360, -0.1123,  0.1401,  0.2523, -0.0412,  0.1162]]), tensor([-0.0036, -0.3470,  0.1489,  0.2670]), tensor([[ 0.0512, -0.0522, -0.0348,  0.4336],\n",
            "        [-0.4845,  0.1658,  0.2259,  0.0211]]), tensor([0.4738, 0.2184])]\n"
          ]
        }
      ]
    },
    {
      "cell_type": "code",
      "execution_count": null,
      "metadata": {
        "id": "NSIcdeHzbMXn",
        "colab": {
          "base_uri": "https://localhost:8080/"
        },
        "outputId": "454fb0a7-feca-457a-9e2f-54e1ebd10d98"
      },
      "outputs": [
        {
          "output_type": "stream",
          "name": "stderr",
          "text": [
            "/usr/local/lib/python3.7/dist-packages/torch/nn/functional.py:1806: UserWarning: nn.functional.sigmoid is deprecated. Use torch.sigmoid instead.\n",
            "  warnings.warn(\"nn.functional.sigmoid is deprecated. Use torch.sigmoid instead.\")\n"
          ]
        }
      ],
      "source": [
        "torch.random.manual_seed(0)\n",
        "model = Net()\n",
        "x = model.parameters()\n",
        "w0 = [w+0.0 for w in model.parameters()]\n",
        "S = []\n",
        "s = []\n",
        "Y = []\n",
        "idx = []\n",
        "memory  = 5\n",
        "fvalLBFGS_LS = []\n",
        "stepSize = 1.0\n",
        "LS_hist = []\n",
        "data = torch.tensor(X)\n",
        "target = torch.tensor(y)\n",
        "for it in range(2):\n",
        "  out = model(data)\n",
        "  loss = nn.CrossEntropyLoss()(out, target)\n",
        "  grad_f = torch.autograd.grad(loss, model.parameters(), create_graph=True)\n",
        "  \n",
        "  fvalLBFGS_LS.append(loss.item())\n",
        "  if it > 0:\n",
        "    idx += grad_f\n",
        "    Y.insert(0, idx)\n",
        "    if len(Y) > memory:\n",
        "      Y.pop()\n",
        "\n",
        "  for a in model.parameters():\n",
        "    s.append(-a.data)\n",
        "\n",
        "  for a in grad_f:\n",
        "    idx.append(-a.data)\n",
        "\n",
        "  # q = -grad_f + 0.0\n",
        "  # q = q.detach()\n",
        "  if len(S) > 0:\n",
        "    alphas = []\n",
        "    rhos = []\n",
        "    for i, (si, yi) in enumerate(zip(S, Y)):\n",
        "      rho = 1 / (torch.dot(si, yi))\n",
        "      rhos.append(rho)\n",
        "    print(rhos)"
      ]
    },
    {
      "cell_type": "code",
      "source": [
        ""
      ],
      "metadata": {
        "colab": {
          "base_uri": "https://localhost:8080/"
        },
        "id": "3xOunvLNo6JU",
        "outputId": "f6cff9ab-611d-41ee-f68b-ac8956565088"
      },
      "execution_count": null,
      "outputs": [
        {
          "output_type": "stream",
          "name": "stdout",
          "text": [
            "1\n",
            "2\n",
            "3\n",
            "4\n"
          ]
        }
      ]
    },
    {
      "cell_type": "code",
      "execution_count": null,
      "metadata": {
        "id": "IDxdRxi9bMXn"
      },
      "outputs": [],
      "source": [
        "grad = 0\n",
        "epsilon = 0.05\n",
        "while np.linalg.norm(grad) ** 2 > epsilon:\n",
        "  "
      ]
    },
    {
      "cell_type": "code",
      "execution_count": null,
      "metadata": {
        "id": "c0prtbCIbMXn"
      },
      "outputs": [],
      "source": [
        ""
      ]
    },
    {
      "cell_type": "markdown",
      "metadata": {
        "id": "yjCX9g_NbMXn"
      },
      "source": [
        "# Adam [20pt]\n",
        "Just use an Adam algorithm to to the same - train the DNN model"
      ]
    },
    {
      "cell_type": "code",
      "execution_count": null,
      "metadata": {
        "id": "bb-xrgJrbMXo",
        "colab": {
          "base_uri": "https://localhost:8080/",
          "height": 299
        },
        "outputId": "80fd5367-4674-484e-9147-7e6595b997d8"
      },
      "outputs": [
        {
          "output_type": "stream",
          "name": "stderr",
          "text": [
            "/usr/local/lib/python3.7/dist-packages/torch/nn/functional.py:1806: UserWarning: nn.functional.sigmoid is deprecated. Use torch.sigmoid instead.\n",
            "  warnings.warn(\"nn.functional.sigmoid is deprecated. Use torch.sigmoid instead.\")\n"
          ]
        },
        {
          "output_type": "display_data",
          "data": {
            "text/plain": [
              "<Figure size 432x288 with 1 Axes>"
            ],
            "image/png": "[encoded data removed]"
          },
          "metadata": {
            "needs_background": "light"
          }
        }
      ],
      "source": [
        "torch.random.manual_seed(0)\n",
        "model = Net() \n",
        "w0 = [w+0.0 for w in model.parameters()]\n",
        "optimizer = torch.optim.Adam(model.parameters(), lr = 0.025)\n",
        "loss_lis = []\n",
        "for it in range(ite_num):\n",
        "  optimizer.zero_grad()\n",
        "  out = model(torch.tensor(X))\n",
        "  loss = nn.CrossEntropyLoss()(out, torch.tensor(y))\n",
        "  loss_lis.append(loss.item())\n",
        "  loss.backward()\n",
        "  optimizer.step()\n",
        "plt.plot(range(1,ite_num+1),loss_lis,'o-',ms=3,lw=1,color='blue')\n",
        "plt.show()\n"
      ]
    },
    {
      "cell_type": "code",
      "execution_count": null,
      "metadata": {
        "id": "6oJDasnUbMXo"
      },
      "outputs": [],
      "source": [
        ""
      ]
    },
    {
      "cell_type": "code",
      "execution_count": null,
      "metadata": {
        "id": "ipihhk80bMXo"
      },
      "outputs": [],
      "source": [
        ""
      ]
    },
    {
      "cell_type": "markdown",
      "metadata": {
        "id": "0tO81DaHbMXo"
      },
      "source": [
        "# Compare all of them [20pt]\n",
        "Here, just try to compare all the algorithms developed above. How to make the comaparion fair? "
      ]
    },
    {
      "cell_type": "code",
      "execution_count": null,
      "metadata": {
        "id": "Lcw3vKmxbMXo"
      },
      "outputs": [],
      "source": [
        ""
      ]
    },
    {
      "cell_type": "code",
      "execution_count": null,
      "metadata": {
        "id": "0JFJRGGrbMXo"
      },
      "outputs": [],
      "source": [
        ""
      ]
    },
    {
      "cell_type": "markdown",
      "metadata": {
        "id": "jFM-vVpybMXp"
      },
      "source": [
        "# IHT/L1 penalty for DNN [80pt]\n",
        "*  we have discussed IHT algorithm for Comp. sensing. Now, we will explore two strategies to obtain sparse weights for our previous model. You should design the algorithms and explore how effective they are\n",
        "*  the first formulation \n",
        "$$\n",
        "\\min_{w1, w_2, ... w_k}  CE( DNN(x_i), y_i ), \\mbox{such that}\\  \\|w_i\\|_0 \\leq C_i\n",
        "$$\n",
        "where CE is a cross-entropy loss and DNN is our DNN model. Here we want to restric each fully connected layer (ignore biases) to have only 25\\% elements non-zero (so pick $C_i$ accordingly)\n",
        "\n",
        "*  the second appraoch is to add $\\|\\cdot\\|_1$ penalty\n",
        "$$\n",
        "\\min_{w1, w_2, ... w_k}  CE( DNN(x_i), y_i ) + \\sum_i \\lambda_i    \\|w_i\\|_1  \n",
        "$$\n",
        "play with $\\lambda_i$'s to achive also sparse $w_i$'s \n"
      ]
    },
    {
      "cell_type": "code",
      "execution_count": null,
      "metadata": {
        "id": "6BdsGQeTbMXp",
        "colab": {
          "base_uri": "https://localhost:8080/"
        },
        "outputId": "094d76bf-cfe7-4962-dad4-eb711550ff76"
      },
      "outputs": [
        {
          "output_type": "stream",
          "name": "stdout",
          "text": [
            "Total parameters 176\n"
          ]
        }
      ],
      "source": [
        "class Net(nn.Module):\n",
        "  def __init__(self ):\n",
        "      super(Net, self).__init__()\n",
        "      self.fc0 = nn.Linear(2, 2)        \n",
        "      self.fc1 = nn.Linear(2, 4)\n",
        "      self.fc2 = nn.Linear(4, 8)\n",
        "      self.fc3 = nn.Linear(8, 8)\n",
        "      self.fc4 = nn.Linear(8, 4)\n",
        "      self.fc5 = nn.Linear(4, 2)\n",
        "\n",
        "  def forward(self, x):\n",
        "      x = F.sigmoid(self.fc0(x))\n",
        "      x = F.sigmoid(self.fc1(x))\n",
        "      x = F.sigmoid(self.fc2(x))\n",
        "      x = F.sigmoid(self.fc3(x))\n",
        "      x = F.sigmoid(self.fc4(x))\n",
        "      x = self.fc5(x)\n",
        "      return  F.log_softmax(x,1)\n",
        "\n",
        "torch.random.manual_seed(0)\n",
        "model = Net()\n",
        "w0 = [w+0.0 for w in model.parameters()]\n",
        "\n",
        "d = np.sum([w.numel() for w in model.parameters()])\n",
        "print (\"Total parameters\",d)\n"
      ]
    },
    {
      "cell_type": "code",
      "source": [
        ""
      ],
      "metadata": {
        "id": "_0aratpniRwr"
      },
      "execution_count": null,
      "outputs": []
    },
    {
      "cell_type": "code",
      "source": [
        "torch.random.manual_seed(702)\n",
        "model = Net()\n",
        "loss_lis = []\n",
        "ite_num = 500\n",
        "optimizer = torch.optim.SGD(model.parameters(), lr=0.025)\n",
        "scheduler = lr_sched.LinearLR(optimizer, start_factor=0.005)\n",
        "for it in range(ite_num):\n",
        "  optimizer.zero_grad()\n",
        "  out = model(data)\n",
        "  l1_w = 0.0\n",
        "  for w in model.parameters():\n",
        "    l1_w = l1_w + torch.sum(torch.abs(w))\n",
        "  loss = F.cross_entropy(out, target)+0.005*l1_w\n",
        "  loss_lis.append(loss.item())\n",
        "  loss.backward()\n",
        "  optimizer.step()\n",
        "  scheduler.step()\n",
        "plt.plot(range(1,ite_num+1),loss_lis,'o-',ms=3,lw=1,color='blue')\n",
        "plt.show()"
      ],
      "metadata": {
        "colab": {
          "base_uri": "https://localhost:8080/",
          "height": 299
        },
        "id": "xWS205ffOPql",
        "outputId": "0f181190-041b-4516-fe75-aa8c79ccfc36"
      },
      "execution_count": null,
      "outputs": [
        {
          "output_type": "stream",
          "name": "stderr",
          "text": [
            "/usr/local/lib/python3.7/dist-packages/torch/nn/functional.py:1806: UserWarning: nn.functional.sigmoid is deprecated. Use torch.sigmoid instead.\n",
            "  warnings.warn(\"nn.functional.sigmoid is deprecated. Use torch.sigmoid instead.\")\n"
          ]
        },
        {
          "output_type": "display_data",
          "data": {
            "text/plain": [
              "<Figure size 432x288 with 1 Axes>"
            ],
            "image/png": "[encoded data removed]"
          },
          "metadata": {
            "needs_background": "light"
          }
        }
      ]
    }
  ],
  "metadata": {
    "colab": {
      "collapsed_sections": [],
      "name": "Assignment03.ipynb",
      "provenance": [],
      "include_colab_link": true
    },
    "kernelspec": {
      "display_name": "Python 3",
      "language": "python",
      "name": "python3"
    },
    "language_info": {
      "codemirror_mode": {
        "name": "ipython",
        "version": 3
      },
      "file_extension": ".py",
      "mimetype": "text/x-python",
      "name": "python",
      "nbconvert_exporter": "python",
      "pygments_lexer": "ipython3",
      "version": "3.8.8"
    },
    "accelerator": "GPU"
  },
  "nbformat": 4,
  "nbformat_minor": 0
}